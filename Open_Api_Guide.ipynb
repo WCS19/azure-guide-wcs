{
  "cells": [
    {
      "attachments": {},
      "cell_type": "markdown",
      "metadata": {
        "id": "kRYraJFQU06h"
      },
      "source": [
        "## Creating and Copying a New Secret API Key on OpenAI\n",
        "\n",
        "### 1. Login to OpenAI Platform using your BU email Id:\n",
        "- Visit [OpenAI Platform](https://platform.openai.com/) and log into your account.\n",
        "\n",
        "### 2. Navigate to API Keys Section:\n",
        "- After logging in, click on your profile icon or name, usually located at the top-right corner.\n",
        "- In the dropdown menu, choose \"API Keys\" or navigate to a section related to keys or credentials.\n",
        "![Screenshot](https://drive.google.com/uc?export=view&id=1y3yfRGDvBVjcVCZCCjo_mAbylgaHjycx)\n",
        "<!-- ![Screenshot for Step 2](https://drive.google.com/uc?export=view&id=1cJF_u_bU1QbXVEtfgWjzzaB7bLSggfnM) -->\n",
        "\n",
        "\n",
        "\n",
        "### 3. Create a New Secret Key:\n",
        "- Once in the \"API Keys\" section, find the \"Create New Secret Key\" button or something similar.\n",
        "- Click on it.\n",
        "- Optionally, name or label the key for identification, such as \"dev\" for development.\n",
        "![Screenshot for Step 2](https://drive.google.com/uc?export=view&id=1cJF_u_bU1QbXVEtfgWjzzaB7bLSggfnM)\n",
        "\n",
        "\n",
        "\n",
        "### 4. Copy the New Secret Key:\n",
        "- After the key is created, it should appear on your screen. Remember, this may be the only time you'll view the entire key.\n",
        "- Use the \"Copy\" button next to the key, or manually select the key and press `Ctrl + C` (or `Cmd + C` on Mac).\n",
        "![Screenshot](https://drive.google.com/uc?export=view&id=1YdetYP4xO4UkMxP75evCY0jltzRw9tcz)\n",
        "\n",
        "\n",
        "### 5. **Safe Storage**:\n",
        "   - Safeguard the copied key in a secure location like a password manager or encrypted note.\n",
        "   - Ensure you don't share your API keys publicly and avoid hardcoding them into applications.\n",
        "\n",
        "**Note**: If you ever suspect your key is at risk, return to the API Keys section to regenerate or delete it. Then, create a fresh one following these steps.\n",
        "\n"
      ]
    },
    {
      "attachments": {},
      "cell_type": "markdown",
      "metadata": {
        "id": "RftgFUd8hUz4"
      },
      "source": [
        "### 6 Implementation of Open AI API\n",
        "Now that we have generated the API key we will install the OpenAI Python Library\n"
      ]
    },
    {
      "cell_type": "code",
      "execution_count": 13,
      "metadata": {
        "colab": {
          "base_uri": "https://localhost:8080/"
        },
        "id": "2z7CrPl6hLvo",
        "outputId": "9b290fc4-b8f6-4560-88be-3e46b7a74390"
      },
      "outputs": [
        {
          "name": "stdout",
          "output_type": "stream",
          "text": [
            "Collecting openai\n",
            "  Downloading openai-0.28.0-py3-none-any.whl (76 kB)\n",
            "\u001b[?25l     \u001b[90m━━━━━━━━━━━━━━━━━━━━━━━━━━━━━━━━━━━━━━━━\u001b[0m \u001b[32m0.0/76.5 kB\u001b[0m \u001b[31m?\u001b[0m eta \u001b[36m-:--:--\u001b[0m\r\u001b[2K     \u001b[90m━━━━━━━━━━━━━━━━━━━━━━━━━━━━━━━━━━━━━━━━\u001b[0m \u001b[32m76.5/76.5 kB\u001b[0m \u001b[31m2.6 MB/s\u001b[0m eta \u001b[36m0:00:00\u001b[0m\n",
            "\u001b[?25hRequirement already satisfied: requests>=2.20 in /usr/local/lib/python3.10/dist-packages (from openai) (2.31.0)\n",
            "Requirement already satisfied: tqdm in /usr/local/lib/python3.10/dist-packages (from openai) (4.66.1)\n",
            "Requirement already satisfied: aiohttp in /usr/local/lib/python3.10/dist-packages (from openai) (3.8.5)\n",
            "Requirement already satisfied: charset-normalizer<4,>=2 in /usr/local/lib/python3.10/dist-packages (from requests>=2.20->openai) (3.2.0)\n",
            "Requirement already satisfied: idna<4,>=2.5 in /usr/local/lib/python3.10/dist-packages (from requests>=2.20->openai) (3.4)\n",
            "Requirement already satisfied: urllib3<3,>=1.21.1 in /usr/local/lib/python3.10/dist-packages (from requests>=2.20->openai) (2.0.4)\n",
            "Requirement already satisfied: certifi>=2017.4.17 in /usr/local/lib/python3.10/dist-packages (from requests>=2.20->openai) (2023.7.22)\n",
            "Requirement already satisfied: attrs>=17.3.0 in /usr/local/lib/python3.10/dist-packages (from aiohttp->openai) (23.1.0)\n",
            "Requirement already satisfied: multidict<7.0,>=4.5 in /usr/local/lib/python3.10/dist-packages (from aiohttp->openai) (6.0.4)\n",
            "Requirement already satisfied: async-timeout<5.0,>=4.0.0a3 in /usr/local/lib/python3.10/dist-packages (from aiohttp->openai) (4.0.3)\n",
            "Requirement already satisfied: yarl<2.0,>=1.0 in /usr/local/lib/python3.10/dist-packages (from aiohttp->openai) (1.9.2)\n",
            "Requirement already satisfied: frozenlist>=1.1.1 in /usr/local/lib/python3.10/dist-packages (from aiohttp->openai) (1.4.0)\n",
            "Requirement already satisfied: aiosignal>=1.1.2 in /usr/local/lib/python3.10/dist-packages (from aiohttp->openai) (1.3.1)\n",
            "Installing collected packages: openai\n",
            "Successfully installed openai-0.28.0\n"
          ]
        }
      ],
      "source": [
        "!pip install openai\n"
      ]
    },
    {
      "attachments": {},
      "cell_type": "markdown",
      "metadata": {
        "id": "KumKB9o6hRpv"
      },
      "source": [
        "Once you've installed the library, you can interact with the OpenAI API. Below is a Python code to run a sample prompt.\n",
        "\n"
      ]
    },
    {
      "cell_type": "code",
      "execution_count": 17,
      "metadata": {
        "colab": {
          "base_uri": "https://localhost:8080/"
        },
        "id": "WjBCcUuuhSwp",
        "outputId": "0638766a-9609-4bfe-f320-b711c17b3fe9"
      },
      "outputs": [
        {
          "name": "stdout",
          "output_type": "stream",
          "text": [
            "Bonjour, comment allez-vous ?\n"
          ]
        }
      ],
      "source": [
        "import openai\n",
        "\n",
        "# Set up your API key\n",
        "openai.api_key = 'YOUR_OPENAI_API_KEY'\n",
        "\n",
        "response = openai.Completion.create(\n",
        "  engine=\"text-davinci-003\",\n",
        "  prompt=\"Translate the following English text to French: 'Hello, how are you?'\",\n",
        "  max_tokens=50\n",
        ")\n",
        "\n",
        "print(response.choices[0].text.strip())\n"
      ]
    },
    {
      "attachments": {},
      "cell_type": "markdown",
      "metadata": {
        "id": "4OzgtccLhjyz"
      },
      "source": [
        "**Note**: Remember to replace `'YOUR_OPENAI_API_KEY'` with your actual OpenAI API key."
      ]
    }
  ],
  "metadata": {
    "colab": {
      "provenance": []
    },
    "kernelspec": {
      "display_name": "Python 3",
      "name": "python3"
    },
    "language_info": {
      "name": "python"
    }
  },
  "nbformat": 4,
  "nbformat_minor": 0
}
